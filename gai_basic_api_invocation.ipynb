{
  "nbformat": 4,
  "nbformat_minor": 0,
  "metadata": {
    "colab": {
      "provenance": [],
      "authorship_tag": "ABX9TyOT96q9M0eYHrF86F0dXmLL",
      "include_colab_link": true
    },
    "kernelspec": {
      "name": "python3",
      "display_name": "Python 3"
    },
    "language_info": {
      "name": "python"
    }
  },
  "cells": [
    {
      "cell_type": "markdown",
      "metadata": {
        "id": "view-in-github",
        "colab_type": "text"
      },
      "source": [
        "<a href=\"https://colab.research.google.com/github/sujeet-banerjee/colab-genai-scratch/blob/main/gai_basic_api_invocation.ipynb\" target=\"_parent\"><img src=\"https://colab.research.google.com/assets/colab-badge.svg\" alt=\"Open In Colab\"/></a>"
      ]
    },
    {
      "cell_type": "markdown",
      "source": [
        "# BASIC TEST Invocation"
      ],
      "metadata": {
        "id": "FQIGhvUX8DKD"
      }
    },
    {
      "cell_type": "markdown",
      "source": [
        "# First try very basic - just how to use the API_KEY to invoke OpenAPI functions."
      ],
      "metadata": {
        "id": "w1pnlMNzy1N-"
      }
    },
    {
      "cell_type": "code",
      "execution_count": null,
      "metadata": {
        "colab": {
          "base_uri": "https://localhost:8080/"
        },
        "id": "s9FaZdoOe6uw",
        "outputId": "4befa5b3-e547-4b34-fdc1-09de57370bcd"
      },
      "outputs": [
        {
          "output_type": "stream",
          "name": "stdout",
          "text": [
            "Requirement already satisfied: openai in /usr/local/lib/python3.11/dist-packages (1.75.0)\n",
            "Requirement already satisfied: anyio<5,>=3.5.0 in /usr/local/lib/python3.11/dist-packages (from openai) (4.9.0)\n",
            "Requirement already satisfied: distro<2,>=1.7.0 in /usr/local/lib/python3.11/dist-packages (from openai) (1.9.0)\n",
            "Requirement already satisfied: httpx<1,>=0.23.0 in /usr/local/lib/python3.11/dist-packages (from openai) (0.28.1)\n",
            "Requirement already satisfied: jiter<1,>=0.4.0 in /usr/local/lib/python3.11/dist-packages (from openai) (0.9.0)\n",
            "Requirement already satisfied: pydantic<3,>=1.9.0 in /usr/local/lib/python3.11/dist-packages (from openai) (2.11.3)\n",
            "Requirement already satisfied: sniffio in /usr/local/lib/python3.11/dist-packages (from openai) (1.3.1)\n",
            "Requirement already satisfied: tqdm>4 in /usr/local/lib/python3.11/dist-packages (from openai) (4.67.1)\n",
            "Requirement already satisfied: typing-extensions<5,>=4.11 in /usr/local/lib/python3.11/dist-packages (from openai) (4.13.2)\n",
            "Requirement already satisfied: idna>=2.8 in /usr/local/lib/python3.11/dist-packages (from anyio<5,>=3.5.0->openai) (3.10)\n",
            "Requirement already satisfied: certifi in /usr/local/lib/python3.11/dist-packages (from httpx<1,>=0.23.0->openai) (2025.1.31)\n",
            "Requirement already satisfied: httpcore==1.* in /usr/local/lib/python3.11/dist-packages (from httpx<1,>=0.23.0->openai) (1.0.8)\n",
            "Requirement already satisfied: h11<0.15,>=0.13 in /usr/local/lib/python3.11/dist-packages (from httpcore==1.*->httpx<1,>=0.23.0->openai) (0.14.0)\n",
            "Requirement already satisfied: annotated-types>=0.6.0 in /usr/local/lib/python3.11/dist-packages (from pydantic<3,>=1.9.0->openai) (0.7.0)\n",
            "Requirement already satisfied: pydantic-core==2.33.1 in /usr/local/lib/python3.11/dist-packages (from pydantic<3,>=1.9.0->openai) (2.33.1)\n",
            "Requirement already satisfied: typing-inspection>=0.4.0 in /usr/local/lib/python3.11/dist-packages (from pydantic<3,>=1.9.0->openai) (0.4.0)\n"
          ]
        }
      ],
      "source": [
        "# prompt: !pip install openai\n",
        "\n",
        "!pip install openai\n"
      ]
    },
    {
      "cell_type": "markdown",
      "source": [
        "Use the below API_KEY with a sample code snippet that follows...\n",
        "\n",
        "API KEY:\n",
        "#"
      ],
      "metadata": {
        "id": "lX7adslAhj88"
      }
    },
    {
      "cell_type": "code",
      "source": [
        "from openai import OpenAI\n",
        "\n",
        "# For secrets\n",
        "from google.colab import userdata\n",
        "\n",
        "open_api_key = userdata.get('open_api_key')\n",
        "\n",
        "client = OpenAI(\n",
        "  api_key= open_api_key\n",
        ")\n",
        "\n",
        "\n",
        "\n"
      ],
      "metadata": {
        "id": "BmsA7qKVhoEu"
      },
      "execution_count": null,
      "outputs": []
    },
    {
      "cell_type": "code",
      "source": [
        "completion = client.chat.completions.create(\n",
        "  model=\"gpt-4.1-nano\",\n",
        "  store=True,\n",
        "  messages=[\n",
        "    {\"role\": \"user\", \"content\": \"write a haiku about ai\"}\n",
        "  ]\n",
        ")\n",
        "\n",
        "print(completion.choices[0].message);"
      ],
      "metadata": {
        "id": "wVQITbig4KC_"
      },
      "execution_count": null,
      "outputs": []
    },
    {
      "cell_type": "markdown",
      "source": [
        "# Use prompts"
      ],
      "metadata": {
        "id": "R6SN5_3C8-R4"
      }
    },
    {
      "cell_type": "code",
      "source": [
        "import openai\n",
        "\n",
        "def prompt_completion(prompt, model=\"gpt-4.1-nano\", temp=0.7):\n",
        "  completion = client.chat.completions.create(\n",
        "    model=model,\n",
        "    store=True,\n",
        "    messages=[\n",
        "      {\"role\": \"user\", \"content\": prompt}\n",
        "    ],\n",
        "    temperature=temp\n",
        "  )\n",
        "\n",
        "  return completion.choices[0].message.content"
      ],
      "metadata": {
        "id": "XgoJ86lhrSpm"
      },
      "execution_count": null,
      "outputs": []
    },
    {
      "cell_type": "code",
      "source": [
        "text = f\"\"\"\n",
        "you should express what you want a model to do by \\\n",
        "providing instructions that are as clear and \\\n",
        "specific as you can possibly make them. \\\n",
        "This will guide the model towards the desired output, \\\n",
        "and reduce the chances of receiving irrelevant \\\n",
        "or incorrect responses. Don't confuse writing a \\\n",
        "clear prompt with writing a short prompt. \\\n",
        "In many cases, longer prompts provide more clarity \\\n",
        "and context for the model, which can lead to \\\n",
        "more detailed and relevant outputs.\n",
        "\"\"\"\n",
        "\n",
        "prompt = f\"\"\"\n",
        "Summarize the text delimited by triple backticks \\\n",
        "into a single sentence, not more than 12 words.\n",
        "```{text}```\n",
        "\"\"\"\n",
        "\n",
        "response = prompt_completion(prompt=prompt, temp=1.0)\n",
        "print(response)"
      ],
      "metadata": {
        "colab": {
          "base_uri": "https://localhost:8080/"
        },
        "id": "DV6UvBOY-x0s",
        "outputId": "6361cd37-5590-4b8a-d477-805443c73aed"
      },
      "execution_count": null,
      "outputs": [
        {
          "output_type": "stream",
          "name": "stdout",
          "text": [
            "Provide clear, specific instructions to guide models for accurate, detailed responses.\n"
          ]
        }
      ]
    },
    {
      "cell_type": "markdown",
      "source": [
        "# Prompt Templates\n"
      ],
      "metadata": {
        "id": "KWeIYHEQeCRK"
      }
    },
    {
      "cell_type": "code",
      "source": [
        "!pip install langchain"
      ],
      "metadata": {
        "colab": {
          "base_uri": "https://localhost:8080/"
        },
        "id": "hyspc_w3eFoy",
        "outputId": "c5d56f0f-4271-475f-df1e-d15c5012433e"
      },
      "execution_count": null,
      "outputs": [
        {
          "output_type": "stream",
          "name": "stdout",
          "text": [
            "Requirement already satisfied: langchain in /usr/local/lib/python3.11/dist-packages (0.3.23)\n",
            "Requirement already satisfied: langchain-core<1.0.0,>=0.3.51 in /usr/local/lib/python3.11/dist-packages (from langchain) (0.3.52)\n",
            "Requirement already satisfied: langchain-text-splitters<1.0.0,>=0.3.8 in /usr/local/lib/python3.11/dist-packages (from langchain) (0.3.8)\n",
            "Requirement already satisfied: langsmith<0.4,>=0.1.17 in /usr/local/lib/python3.11/dist-packages (from langchain) (0.3.31)\n",
            "Requirement already satisfied: pydantic<3.0.0,>=2.7.4 in /usr/local/lib/python3.11/dist-packages (from langchain) (2.11.3)\n",
            "Requirement already satisfied: SQLAlchemy<3,>=1.4 in /usr/local/lib/python3.11/dist-packages (from langchain) (2.0.40)\n",
            "Requirement already satisfied: requests<3,>=2 in /usr/local/lib/python3.11/dist-packages (from langchain) (2.32.3)\n",
            "Requirement already satisfied: PyYAML>=5.3 in /usr/local/lib/python3.11/dist-packages (from langchain) (6.0.2)\n",
            "Requirement already satisfied: tenacity!=8.4.0,<10.0.0,>=8.1.0 in /usr/local/lib/python3.11/dist-packages (from langchain-core<1.0.0,>=0.3.51->langchain) (9.1.2)\n",
            "Requirement already satisfied: jsonpatch<2.0,>=1.33 in /usr/local/lib/python3.11/dist-packages (from langchain-core<1.0.0,>=0.3.51->langchain) (1.33)\n",
            "Requirement already satisfied: packaging<25,>=23.2 in /usr/local/lib/python3.11/dist-packages (from langchain-core<1.0.0,>=0.3.51->langchain) (24.2)\n",
            "Requirement already satisfied: typing-extensions>=4.7 in /usr/local/lib/python3.11/dist-packages (from langchain-core<1.0.0,>=0.3.51->langchain) (4.13.2)\n",
            "Requirement already satisfied: httpx<1,>=0.23.0 in /usr/local/lib/python3.11/dist-packages (from langsmith<0.4,>=0.1.17->langchain) (0.28.1)\n",
            "Requirement already satisfied: orjson<4.0.0,>=3.9.14 in /usr/local/lib/python3.11/dist-packages (from langsmith<0.4,>=0.1.17->langchain) (3.10.16)\n",
            "Requirement already satisfied: requests-toolbelt<2.0.0,>=1.0.0 in /usr/local/lib/python3.11/dist-packages (from langsmith<0.4,>=0.1.17->langchain) (1.0.0)\n",
            "Requirement already satisfied: zstandard<0.24.0,>=0.23.0 in /usr/local/lib/python3.11/dist-packages (from langsmith<0.4,>=0.1.17->langchain) (0.23.0)\n",
            "Requirement already satisfied: annotated-types>=0.6.0 in /usr/local/lib/python3.11/dist-packages (from pydantic<3.0.0,>=2.7.4->langchain) (0.7.0)\n",
            "Requirement already satisfied: pydantic-core==2.33.1 in /usr/local/lib/python3.11/dist-packages (from pydantic<3.0.0,>=2.7.4->langchain) (2.33.1)\n",
            "Requirement already satisfied: typing-inspection>=0.4.0 in /usr/local/lib/python3.11/dist-packages (from pydantic<3.0.0,>=2.7.4->langchain) (0.4.0)\n",
            "Requirement already satisfied: charset-normalizer<4,>=2 in /usr/local/lib/python3.11/dist-packages (from requests<3,>=2->langchain) (3.4.1)\n",
            "Requirement already satisfied: idna<4,>=2.5 in /usr/local/lib/python3.11/dist-packages (from requests<3,>=2->langchain) (3.10)\n",
            "Requirement already satisfied: urllib3<3,>=1.21.1 in /usr/local/lib/python3.11/dist-packages (from requests<3,>=2->langchain) (2.3.0)\n",
            "Requirement already satisfied: certifi>=2017.4.17 in /usr/local/lib/python3.11/dist-packages (from requests<3,>=2->langchain) (2025.1.31)\n",
            "Requirement already satisfied: greenlet>=1 in /usr/local/lib/python3.11/dist-packages (from SQLAlchemy<3,>=1.4->langchain) (3.2.0)\n",
            "Requirement already satisfied: anyio in /usr/local/lib/python3.11/dist-packages (from httpx<1,>=0.23.0->langsmith<0.4,>=0.1.17->langchain) (4.9.0)\n",
            "Requirement already satisfied: httpcore==1.* in /usr/local/lib/python3.11/dist-packages (from httpx<1,>=0.23.0->langsmith<0.4,>=0.1.17->langchain) (1.0.8)\n",
            "Requirement already satisfied: h11<0.15,>=0.13 in /usr/local/lib/python3.11/dist-packages (from httpcore==1.*->httpx<1,>=0.23.0->langsmith<0.4,>=0.1.17->langchain) (0.14.0)\n",
            "Requirement already satisfied: jsonpointer>=1.9 in /usr/local/lib/python3.11/dist-packages (from jsonpatch<2.0,>=1.33->langchain-core<1.0.0,>=0.3.51->langchain) (3.0.0)\n",
            "Requirement already satisfied: sniffio>=1.1 in /usr/local/lib/python3.11/dist-packages (from anyio->httpx<1,>=0.23.0->langsmith<0.4,>=0.1.17->langchain) (1.3.1)\n"
          ]
        }
      ]
    },
    {
      "cell_type": "code",
      "source": [
        "from langchain import PromptTemplate\n",
        "\n",
        "#Form a prompt template\n",
        "\n",
        "prompt = PromptTemplate(\n",
        "    template=\"Write an elaborate and informative product \\\n",
        "      description for the following item: '{product_name}' \\\n",
        "      by the brand: '{brand}'. Show your creativity!\",\n",
        "    input_variables=[\"product_name\", \"brand\"],\n",
        ")\n",
        "\n",
        "product_name = \"AeroGlide UltraSlim Smart Toothbrush\"\n",
        "brand=\"Some Funny Brand\"\n",
        "\n",
        "partial_prompt = prompt.partial(product_name=product_name, brand=brand)\n",
        "prompt = partial_prompt.format(brand=brand)\n",
        "\n",
        "print(prompt)\n",
        "print('>>')\n",
        "print(prompt_completion(prompt=prompt, temp=1.0))\n",
        "print('>>>>')\n",
        "print(prompt_completion(prompt=prompt, temp=0))\n",
        "\n",
        "\n"
      ],
      "metadata": {
        "colab": {
          "base_uri": "https://localhost:8080/"
        },
        "id": "IAV7MlsZgZXA",
        "outputId": "a9e3921d-4acc-4d59-9104-4cb1f00fcec4"
      },
      "execution_count": null,
      "outputs": [
        {
          "output_type": "stream",
          "name": "stdout",
          "text": [
            "Write an elaborate and informative product       description for the following item: 'AeroGlide UltraSlim Smart Toothbrush'       by the brand: 'Some Funny Brand'. Show your creativity!\n",
            ">>\n",
            "Introducing the AeroGlide UltraSlim Smart Toothbrush by Some Funny Brand — revolutionizing your daily oral care routine with cutting-edge technology, sleek design, and unparalleled precision. Designed for those who demand excellence in every brush, the AeroGlide UltraSlim effortlessly combines innovation, comfort, and style to help you achieve a healthier, brighter smile every day.\n",
            "\n",
            "**Sleek, UltraSlim Design**\n",
            "Crafted with a modern aesthetic, the AeroGlide UltraSlim is remarkably lightweight and ergonomically shaped to fit comfortably in your hand. Its ultra-slim profile not only enhances maneuverability for every hard-to-reach corner but also adds a touch of sophistication to your bathroom countertop. Available in a range of vibrant colors and finishes, it’s as much a statement piece as it is a functional tool.\n",
            "\n",
            "**Advanced Smart Technology**\n",
            "Equipped with state-of-the-art sensors and Bluetooth connectivity, this smart toothbrush seamlessly syncs with your smartphone via the dedicated AeroGlide app. Real-time feedback provides personalized brushing guidance, ensuring you cover all areas effectively. The app tracks your brushing habits, duration, and pressure, offering insightful reports to improve your oral hygiene over time.\n",
            "\n",
            "**Pulse & Pressure Optimization**\n",
            "The AeroGlide UltraSlim features intelligent pressure sensors that alert you when you’re brushing too hard, preventing gum damage and enamel erosion. Gentle pulse alerts guide your brushing rhythm, promoting optimal plaque removal and ensuring a thorough clean without discomfort.\n",
            "\n",
            "**Triple-Mode Brushing Experience**\n",
            "Customize your brushing experience with three distinct modes:\n",
            "- **Clean Mode**: Standard deep cleaning for everyday freshness.\n",
            "- **Sensitive Mode**: Gentle brushing for sensitive teeth and gums.\n",
            "- **Whitening Mode**: Special pulses designed to enhance your natural whiteness, removing surface stains effectively.\n",
            "\n",
            "**Precision Bristle Technology**\n",
            "The toothbrush comes with ultra-fine, multi-directional bristles that adapt to your teeth’s contours, ensuring maximum coverage. The bristles are embedded with antimicrobial silver ions, maintaining hygiene and prolonging their lifespan.\n",
            "\n",
            "**Long-Lasting Battery & Convenient Features**\n",
            "Powered by a high-capacity rechargeable battery, the AeroGlide UltraSlim offers up to 21 days of use on a single charge. The intuitive LED indicator notifies you of battery status and connectivity. The included sleek charging base ensures effortless recharging, while the waterproof construction guarantees durability in moist environments.\n",
            "\n",
            "**Eco-Friendly & User-Centric**\n",
            "Some Funny Brand prioritizes sustainability; hence, the AeroGlide UltraSlim features eco-conscious materials, and the replaceable brush heads reduce waste. Its intuitive interface makes it suitable for all ages, transforming brushing from a chore into a delightful experience.\n",
            "\n",
            "**In Summary**\n",
            "The AeroGlide UltraSlim Smart Toothbrush by Some Funny Brand is more than just a toothbrush — it’s your personal oral health assistant. Combining intelligent technology with stylish design, it empowers you to maintain a brighter, healthier smile with confidence and ease. Elevate your dental routine today and experience the future of brushing!\n",
            "\n",
            "---\n",
            "\n",
            "*Note:* For optimal performance, replace the brush heads every 3 months and sync your device regularly with the AeroGlide app for personalized insights.\n",
            ">>>>\n",
            "Introducing the AeroGlide UltraSlim Smart Toothbrush by Some Funny Brand — the future of oral care is here, and it’s sleeker, smarter, and more sophisticated than ever before. Designed for those who demand excellence in their daily hygiene routine, the AeroGlide UltraSlim redefines what a toothbrush can be, blending cutting-edge technology with a minimalist aesthetic to deliver a truly exceptional brushing experience.\n",
            "\n",
            "**Sleek, Ultra-Slim Design**  \n",
            "Crafted with precision, the AeroGlide UltraSlim boasts an ultra-thin profile that comfortably fits in your hand and effortlessly reaches every corner of your mouth. Its lightweight, ergonomic handle ensures a secure grip, making brushing feel effortless and enjoyable. The modern, streamlined look complements any bathroom decor, turning your daily routine into a moment of style and sophistication.\n",
            "\n",
            "**Smart Technology for Superior Oral Health**  \n",
            "Equipped with advanced sensors and Bluetooth connectivity, the AeroGlide UltraSlim syncs seamlessly with your smartphone via the dedicated app. This intelligent pairing provides real-time feedback on your brushing habits, including duration, pressure, and coverage, empowering you to optimize your technique for healthier teeth and gums. The app also offers personalized brushing routines, reminders, and progress tracking to keep you motivated and informed.\n",
            "\n",
            "**Vibrating Bristle System**  \n",
            "Featuring a high-frequency sonic vibration system, the AeroGlide UltraSlim delivers up to 40,000 strokes per minute, effectively dislodging plaque and bacteria for a deep clean. The gentle yet powerful vibrations ensure thorough cleaning without damaging enamel or irritating gums. Multiple brushing modes—including Clean, Gum Care, Whitening, and Sensitive—allow you to customize your experience based on your oral health needs.\n",
            "\n",
            "**Innovative Bristle Technology**  \n",
            "The toothbrush comes with ultra-soft, multi-directional bristles designed to reach even the most hard-to-access areas. The bristle heads are replaceable, ensuring optimal hygiene and performance over time. The unique bristle arrangement adapts to your mouth’s contours, providing a comprehensive clean that leaves your mouth feeling fresh and invigorated.\n",
            "\n",
            "**Long-Lasting Battery Life & Charging Convenience**  \n",
            "Powered by a high-capacity rechargeable battery, the AeroGlide UltraSlim offers up to three weeks of use on a single charge. The sleek, magnetic charging dock is compact and easy to use, making it perfect for travel or everyday storage. The toothbrush also features a handy LED indicator to alert you when the battery is running low.\n",
            "\n",
            "**Eco-Friendly & Hygienic**  \n",
            "Some Funny Brand is committed to sustainability. The AeroGlide UltraSlim’s materials are eco-conscious, and the replaceable bristle heads reduce waste. The toothbrush itself is designed for easy cleaning and maintenance, ensuring a hygienic brushing experience every time.\n",
            "\n",
            "**Why Choose the AeroGlide UltraSlim Smart Toothbrush?**  \n",
            "- Combines sleek design with intelligent features for a superior clean  \n",
            "- Personalized brushing guidance via smartphone app  \n",
            "- Multiple modes tailored to your oral health needs  \n",
            "- Deep sonic cleaning with gentle vibrations  \n",
            "- Eco-friendly, replaceable bristle heads  \n",
            "- Long-lasting battery with quick, convenient charging\n",
            "\n",
            "Elevate your oral hygiene routine with the AeroGlide UltraSlim Smart Toothbrush by Some Funny Brand — where innovation meets elegance for a healthier, brighter smile. Make every brush count and experience the future of dental care today!\n"
          ]
        }
      ]
    }
  ]
}
